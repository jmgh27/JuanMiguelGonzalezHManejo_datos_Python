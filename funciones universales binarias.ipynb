{
 "cells": [
  {
   "cell_type": "code",
   "execution_count": 1,
   "id": "e838f0e3",
   "metadata": {},
   "outputs": [],
   "source": [
    "#Juan Miguel González Hernández\n",
    "import numpy as np\n",
    "\n",
    "arr = np.array([5,36,17,18,9])\n",
    "\n",
    "arr_2 = np.array([8,24,17,19,9])"
   ]
  },
  {
   "cell_type": "code",
   "execution_count": 2,
   "id": "ac1778a2",
   "metadata": {},
   "outputs": [
    {
     "data": {
      "text/plain": [
       "array([13, 60, 34, 37, 18])"
      ]
     },
     "execution_count": 2,
     "metadata": {},
     "output_type": "execute_result"
    }
   ],
   "source": [
    "np.add(arr,arr_2)"
   ]
  },
  {
   "cell_type": "code",
   "execution_count": 3,
   "id": "bf3f7a6c",
   "metadata": {},
   "outputs": [
    {
     "data": {
      "text/plain": [
       "array([-3, 12,  0, -1,  0])"
      ]
     },
     "execution_count": 3,
     "metadata": {},
     "output_type": "execute_result"
    }
   ],
   "source": [
    "np.subtract(arr,arr_2)"
   ]
  },
  {
   "cell_type": "code",
   "execution_count": 4,
   "id": "4ec9930a",
   "metadata": {},
   "outputs": [
    {
     "data": {
      "text/plain": [
       "array([ 40, 864, 289, 342,  81])"
      ]
     },
     "execution_count": 4,
     "metadata": {},
     "output_type": "execute_result"
    }
   ],
   "source": [
    "np.multiply(arr,arr_2)"
   ]
  },
  {
   "cell_type": "code",
   "execution_count": 5,
   "id": "7e2e136f",
   "metadata": {},
   "outputs": [
    {
     "data": {
      "text/plain": [
       "array([0.625     , 1.5       , 1.        , 0.94736842, 1.        ])"
      ]
     },
     "execution_count": 5,
     "metadata": {},
     "output_type": "execute_result"
    }
   ],
   "source": [
    "np.divide(arr,arr_2)"
   ]
  },
  {
   "cell_type": "code",
   "execution_count": 6,
   "id": "96df14e0",
   "metadata": {},
   "outputs": [
    {
     "data": {
      "text/plain": [
       "False"
      ]
     },
     "execution_count": 6,
     "metadata": {},
     "output_type": "execute_result"
    }
   ],
   "source": [
    "np.array_equal(arr,arr_2)"
   ]
  },
  {
   "cell_type": "code",
   "execution_count": 7,
   "id": "a53bc3f0",
   "metadata": {},
   "outputs": [
    {
     "data": {
      "text/plain": [
       "array([ 5, 24, 17, 18,  9])"
      ]
     },
     "execution_count": 7,
     "metadata": {},
     "output_type": "execute_result"
    }
   ],
   "source": [
    "np.fmin(arr,arr_2)"
   ]
  },
  {
   "cell_type": "code",
   "execution_count": 8,
   "id": "3692553f",
   "metadata": {},
   "outputs": [
    {
     "data": {
      "text/plain": [
       "array([ 8, 36, 17, 19,  9])"
      ]
     },
     "execution_count": 8,
     "metadata": {},
     "output_type": "execute_result"
    }
   ],
   "source": [
    "np.fmax(arr,arr_2)"
   ]
  },
  {
   "cell_type": "code",
   "execution_count": null,
   "id": "08565b41",
   "metadata": {},
   "outputs": [],
   "source": []
  },
  {
   "cell_type": "code",
   "execution_count": null,
   "id": "3619b56a",
   "metadata": {},
   "outputs": [],
   "source": []
  }
 ],
 "metadata": {
  "kernelspec": {
   "display_name": "Python 3",
   "language": "python",
   "name": "python3"
  },
  "language_info": {
   "codemirror_mode": {
    "name": "ipython",
    "version": 3
   },
   "file_extension": ".py",
   "mimetype": "text/x-python",
   "name": "python",
   "nbconvert_exporter": "python",
   "pygments_lexer": "ipython3",
   "version": "3.8.8"
  }
 },
 "nbformat": 4,
 "nbformat_minor": 5
}
