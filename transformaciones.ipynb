{
 "cells": [
  {
   "cell_type": "code",
   "execution_count": 7,
   "id": "5e596e81",
   "metadata": {},
   "outputs": [
    {
     "data": {
      "text/plain": [
       "array([[38, 96, 90, 27],\n",
       "       [32, 38,  6, 34],\n",
       "       [48, 84, 29, 16]])"
      ]
     },
     "execution_count": 7,
     "metadata": {},
     "output_type": "execute_result"
    }
   ],
   "source": [
    "#Juan Miguel González Hernández\n",
    "import numpy as np\n",
    "\n",
    "arr_ent = np.random.randint(100, size=(3,4))\n",
    "arr_ent"
   ]
  },
  {
   "cell_type": "code",
   "execution_count": 8,
   "id": "3410235f",
   "metadata": {},
   "outputs": [
    {
     "data": {
      "text/plain": [
       "array([[38., 96., 90., 27.],\n",
       "       [32., 38.,  6., 34.],\n",
       "       [48., 84., 29., 16.]])"
      ]
     },
     "execution_count": 8,
     "metadata": {},
     "output_type": "execute_result"
    }
   ],
   "source": [
    "arr_ent.astype(float)"
   ]
  },
  {
   "cell_type": "code",
   "execution_count": 9,
   "id": "44fa30ca",
   "metadata": {},
   "outputs": [
    {
     "data": {
      "text/plain": [
       "array([[38, 96, 90, 27],\n",
       "       [32, 38,  6, 34],\n",
       "       [48, 84, 29, 16]])"
      ]
     },
     "execution_count": 9,
     "metadata": {},
     "output_type": "execute_result"
    }
   ],
   "source": [
    "#Juan Miguel González Hernández\n",
    "arr_ent"
   ]
  },
  {
   "cell_type": "code",
   "execution_count": 10,
   "id": "8a34f7a8",
   "metadata": {},
   "outputs": [
    {
     "data": {
      "text/plain": [
       "array([[27, 38, 90, 96],\n",
       "       [ 6, 32, 34, 38],\n",
       "       [16, 29, 48, 84]])"
      ]
     },
     "execution_count": 10,
     "metadata": {},
     "output_type": "execute_result"
    }
   ],
   "source": [
    "arr_ent.sort()\n",
    "arr_ent"
   ]
  },
  {
   "cell_type": "code",
   "execution_count": 11,
   "id": "2e1af391",
   "metadata": {},
   "outputs": [
    {
     "data": {
      "text/plain": [
       "array([[ 6, 29, 34, 38],\n",
       "       [16, 32, 48, 84],\n",
       "       [27, 38, 90, 96]])"
      ]
     },
     "execution_count": 11,
     "metadata": {},
     "output_type": "execute_result"
    }
   ],
   "source": [
    "arr_ent.sort(axis=0)\n",
    "arr_ent"
   ]
  },
  {
   "cell_type": "code",
   "execution_count": 12,
   "id": "c58ad467",
   "metadata": {},
   "outputs": [
    {
     "data": {
      "text/plain": [
       "array([[ 6, 29, 34, 38],\n",
       "       [16, 32, 48, 84],\n",
       "       [27, 38, 90, 96]])"
      ]
     },
     "execution_count": 12,
     "metadata": {},
     "output_type": "execute_result"
    }
   ],
   "source": [
    "#Juan Miguel González Hernández\n",
    "arr_ent"
   ]
  },
  {
   "cell_type": "code",
   "execution_count": 18,
   "id": "8d6403ff",
   "metadata": {},
   "outputs": [
    {
     "data": {
      "text/plain": [
       "array([[ 6, 29, 34],\n",
       "       [38, 16, 32],\n",
       "       [48, 84, 27],\n",
       "       [38, 90, 96]])"
      ]
     },
     "execution_count": 18,
     "metadata": {},
     "output_type": "execute_result"
    }
   ],
   "source": [
    "arr_ent = arr_ent.reshape(4,3)\n",
    "arr_ent"
   ]
  },
  {
   "cell_type": "code",
   "execution_count": 19,
   "id": "3e362931",
   "metadata": {},
   "outputs": [
    {
     "name": "stdout",
     "output_type": "stream",
     "text": [
      "[[ 6 29 34]\n",
      " [38 16 32]\n",
      " [48 84 27]\n",
      " [38 90 96]]\n",
      "[ 6 29 34 38 16 32 48 84 27 38 90 96]\n"
     ]
    }
   ],
   "source": [
    "plano_arr = arr_ent.flatten()\n",
    "\n",
    "print(arr_ent)\n",
    "print(plano_arr)"
   ]
  },
  {
   "cell_type": "code",
   "execution_count": 22,
   "id": "8333c02c",
   "metadata": {},
   "outputs": [
    {
     "data": {
      "text/plain": [
       "([6, 29, 34, 38, 16, 32, 48, 84, 27, 38, 90, 96], list)"
      ]
     },
     "execution_count": 22,
     "metadata": {},
     "output_type": "execute_result"
    }
   ],
   "source": [
    "lista_arr = plano_arr.tolist()\n",
    "lista_arr,type(lista_arr)"
   ]
  },
  {
   "cell_type": "code",
   "execution_count": 24,
   "id": "d5535e43",
   "metadata": {},
   "outputs": [
    {
     "data": {
      "text/plain": [
       "[array([[ 6, 29, 34]]),\n",
       " array([[38, 16, 32]]),\n",
       " array([[48, 84, 27]]),\n",
       " array([[38, 90, 96]])]"
      ]
     },
     "execution_count": 24,
     "metadata": {},
     "output_type": "execute_result"
    }
   ],
   "source": [
    "arrays = np.split(arr_ent,4)\n",
    "arrays"
   ]
  },
  {
   "cell_type": "code",
   "execution_count": 28,
   "id": "c05c81ad",
   "metadata": {},
   "outputs": [
    {
     "data": {
      "text/plain": [
       "array([[38, 16, 32,  6, 29, 34]])"
      ]
     },
     "execution_count": 28,
     "metadata": {},
     "output_type": "execute_result"
    }
   ],
   "source": [
    "np.concatenate((arrays[1],arrays[0]),axis=1)"
   ]
  },
  {
   "cell_type": "code",
   "execution_count": 30,
   "id": "eb47b7b7",
   "metadata": {},
   "outputs": [
    {
     "data": {
      "text/plain": [
       "array([[ 6, 38, 48, 38],\n",
       "       [29, 16, 84, 90],\n",
       "       [34, 32, 27, 96]])"
      ]
     },
     "execution_count": 30,
     "metadata": {},
     "output_type": "execute_result"
    }
   ],
   "source": [
    "t_arr = arr_ent.T\n",
    "t_arr"
   ]
  },
  {
   "cell_type": "code",
   "execution_count": null,
   "id": "3304567a",
   "metadata": {},
   "outputs": [],
   "source": []
  }
 ],
 "metadata": {
  "kernelspec": {
   "display_name": "Python 3",
   "language": "python",
   "name": "python3"
  },
  "language_info": {
   "codemirror_mode": {
    "name": "ipython",
    "version": 3
   },
   "file_extension": ".py",
   "mimetype": "text/x-python",
   "name": "python",
   "nbconvert_exporter": "python",
   "pygments_lexer": "ipython3",
   "version": "3.8.8"
  }
 },
 "nbformat": 4,
 "nbformat_minor": 5
}
